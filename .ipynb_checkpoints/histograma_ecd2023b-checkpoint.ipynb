{
  "nbformat": 4,
  "nbformat_minor": 0,
  "metadata": {
    "colab": {
      "provenance": []
    },
    "kernelspec": {
      "name": "python3",
      "display_name": "Python 3"
    },
    "language_info": {
      "name": "python"
    }
  },
  "cells": [
    {
      "cell_type": "code",
      "execution_count": null,
      "metadata": {
        "id": "vWJZaxnqVnyI"
      },
      "outputs": [],
      "source": [
        "import altair as alt"
      ]
    },
    {
      "cell_type": "code",
      "source": [
        "import pandas as pd"
      ],
      "metadata": {
        "id": "cSbepZwbV2Th"
      },
      "execution_count": null,
      "outputs": []
    },
    {
      "cell_type": "code",
      "source": [
        "data = [{\"genero\":\"F\",\"edad\":26},\n",
        "{\"genero\":\"M\",\"edad\":32},\n",
        "{\"genero\":\"M\",\"edad\":39},\n",
        "{\"genero\":\"M\",\"edad\":33},\n",
        "{\"genero\":\"M\",\"edad\":31},\n",
        "{\"genero\":\"M\",\"edad\":47},\n",
        "{\"genero\":\"M\",\"edad\":24},\n",
        "{\"genero\":\"F\",\"edad\":40},\n",
        "{\"genero\":\"M\",\"edad\":28},\n",
        "{\"genero\":\"M\",\"edad\":35},\n",
        "{\"genero\":\"M\",\"edad\":29},\n",
        "{\"genero\":\"F\",\"edad\":28},\n",
        "{\"genero\":\"M\",\"edad\":40},\n",
        "{\"genero\":\"F\",\"edad\":31},\n",
        "{\"genero\":\"M\",\"edad\":26},\n",
        "{\"genero\":\"M\",\"edad\":32},\n",
        "{\"genero\":\"M\",\"edad\":28},\n",
        "{\"genero\":\"M\",\"edad\":49},\n",
        "{\"genero\":\"M\",\"edad\":35},\n",
        "{\"genero\":\"M\",\"edad\":28},\n",
        "{\"genero\":\"M\",\"edad\":31},\n",
        "{\"genero\":\"M\",\"edad\":34},\n",
        "{\"genero\":\"M\",\"edad\":37},\n",
        "{\"genero\":\"F\",\"edad\":41},\n",
        "{\"genero\":\"M\",\"edad\":29}];"
      ],
      "metadata": {
        "id": "6jiLjPsdWS-A"
      },
      "execution_count": null,
      "outputs": []
    },
    {
      "cell_type": "code",
      "source": [
        "source = pd.DataFrame.from_dict(data)"
      ],
      "metadata": {
        "id": "qLR1a92HWWf6"
      },
      "execution_count": null,
      "outputs": []
    },
    {
      "cell_type": "code",
      "source": [
        "chart = alt.Chart(source).mark_bar().encode(\n",
        "    alt.X(\"edad:Q\", bin=True),\n",
        "    alt.Color(\"genero:N\"),\n",
        "    y='count()'\n",
        ")"
      ],
      "metadata": {
        "id": "bmby88xcVzeo"
      },
      "execution_count": null,
      "outputs": []
    },
    {
      "cell_type": "code",
      "source": [
        "chart"
      ],
      "metadata": {
        "colab": {
          "base_uri": "https://localhost:8080/",
          "height": 368
        },
        "id": "H2qEtJeqWc45",
        "outputId": "e96edbbe-f3ba-482b-c392-b52453caaed0"
      },
      "execution_count": null,
      "outputs": [
        {
          "output_type": "execute_result",
          "data": {
            "text/html": [
              "\n",
              "<div id=\"altair-viz-5a91b90f69c44132853688ce65f67357\"></div>\n",
              "<script type=\"text/javascript\">\n",
              "  var VEGA_DEBUG = (typeof VEGA_DEBUG == \"undefined\") ? {} : VEGA_DEBUG;\n",
              "  (function(spec, embedOpt){\n",
              "    let outputDiv = document.currentScript.previousElementSibling;\n",
              "    if (outputDiv.id !== \"altair-viz-5a91b90f69c44132853688ce65f67357\") {\n",
              "      outputDiv = document.getElementById(\"altair-viz-5a91b90f69c44132853688ce65f67357\");\n",
              "    }\n",
              "    const paths = {\n",
              "      \"vega\": \"https://cdn.jsdelivr.net/npm//vega@5?noext\",\n",
              "      \"vega-lib\": \"https://cdn.jsdelivr.net/npm//vega-lib?noext\",\n",
              "      \"vega-lite\": \"https://cdn.jsdelivr.net/npm//vega-lite@4.17.0?noext\",\n",
              "      \"vega-embed\": \"https://cdn.jsdelivr.net/npm//vega-embed@6?noext\",\n",
              "    };\n",
              "\n",
              "    function maybeLoadScript(lib, version) {\n",
              "      var key = `${lib.replace(\"-\", \"\")}_version`;\n",
              "      return (VEGA_DEBUG[key] == version) ?\n",
              "        Promise.resolve(paths[lib]) :\n",
              "        new Promise(function(resolve, reject) {\n",
              "          var s = document.createElement('script');\n",
              "          document.getElementsByTagName(\"head\")[0].appendChild(s);\n",
              "          s.async = true;\n",
              "          s.onload = () => {\n",
              "            VEGA_DEBUG[key] = version;\n",
              "            return resolve(paths[lib]);\n",
              "          };\n",
              "          s.onerror = () => reject(`Error loading script: ${paths[lib]}`);\n",
              "          s.src = paths[lib];\n",
              "        });\n",
              "    }\n",
              "\n",
              "    function showError(err) {\n",
              "      outputDiv.innerHTML = `<div class=\"error\" style=\"color:red;\">${err}</div>`;\n",
              "      throw err;\n",
              "    }\n",
              "\n",
              "    function displayChart(vegaEmbed) {\n",
              "      vegaEmbed(outputDiv, spec, embedOpt)\n",
              "        .catch(err => showError(`Javascript Error: ${err.message}<br>This usually means there's a typo in your chart specification. See the javascript console for the full traceback.`));\n",
              "    }\n",
              "\n",
              "    if(typeof define === \"function\" && define.amd) {\n",
              "      requirejs.config({paths});\n",
              "      require([\"vega-embed\"], displayChart, err => showError(`Error loading script: ${err.message}`));\n",
              "    } else {\n",
              "      maybeLoadScript(\"vega\", \"5\")\n",
              "        .then(() => maybeLoadScript(\"vega-lite\", \"4.17.0\"))\n",
              "        .then(() => maybeLoadScript(\"vega-embed\", \"6\"))\n",
              "        .catch(showError)\n",
              "        .then(() => displayChart(vegaEmbed));\n",
              "    }\n",
              "  })({\"config\": {\"view\": {\"continuousWidth\": 400, \"continuousHeight\": 300}}, \"data\": {\"name\": \"data-44111aa0006790fcc54d1372ce82a577\"}, \"mark\": \"bar\", \"encoding\": {\"color\": {\"field\": \"genero\", \"type\": \"nominal\"}, \"x\": {\"bin\": true, \"field\": \"edad\", \"type\": \"quantitative\"}, \"y\": {\"aggregate\": \"count\", \"type\": \"quantitative\"}}, \"$schema\": \"https://vega.github.io/schema/vega-lite/v4.17.0.json\", \"datasets\": {\"data-44111aa0006790fcc54d1372ce82a577\": [{\"genero\": \"F\", \"edad\": 26}, {\"genero\": \"M\", \"edad\": 32}, {\"genero\": \"M\", \"edad\": 39}, {\"genero\": \"M\", \"edad\": 33}, {\"genero\": \"M\", \"edad\": 31}, {\"genero\": \"M\", \"edad\": 47}, {\"genero\": \"M\", \"edad\": 24}, {\"genero\": \"F\", \"edad\": 40}, {\"genero\": \"M\", \"edad\": 28}, {\"genero\": \"M\", \"edad\": 35}, {\"genero\": \"M\", \"edad\": 29}, {\"genero\": \"F\", \"edad\": 28}, {\"genero\": \"M\", \"edad\": 40}, {\"genero\": \"F\", \"edad\": 31}, {\"genero\": \"M\", \"edad\": 26}, {\"genero\": \"M\", \"edad\": 32}, {\"genero\": \"M\", \"edad\": 28}, {\"genero\": \"M\", \"edad\": 49}, {\"genero\": \"M\", \"edad\": 35}, {\"genero\": \"M\", \"edad\": 28}, {\"genero\": \"M\", \"edad\": 31}, {\"genero\": \"M\", \"edad\": 34}, {\"genero\": \"M\", \"edad\": 37}, {\"genero\": \"F\", \"edad\": 41}, {\"genero\": \"M\", \"edad\": 29}]}}, {\"mode\": \"vega-lite\"});\n",
              "</script>"
            ],
            "text/plain": [
              "alt.Chart(...)"
            ]
          },
          "metadata": {},
          "execution_count": 18
        }
      ]
    },
    {
      "cell_type": "code",
      "source": [
        "chart.save(\"qq.html\")"
      ],
      "metadata": {
        "id": "SpCLhg6PXbQy"
      },
      "execution_count": null,
      "outputs": []
    },
    {
      "cell_type": "code",
      "source": [],
      "metadata": {
        "id": "LLO2pMTdXfbw"
      },
      "execution_count": null,
      "outputs": []
    }
  ]
}